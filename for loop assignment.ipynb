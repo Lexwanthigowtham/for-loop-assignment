{
 "cells": [
  {
   "cell_type": "markdown",
   "id": "9666c98c-4d9b-4ffb-b2c7-2c39861a5ad4",
   "metadata": {},
   "source": [
    "### BASIC LEVEL\n"
   ]
  },
  {
   "cell_type": "code",
   "execution_count": 1,
   "id": "eef2a79c-9bdd-4d9f-a053-9a6044272f3c",
   "metadata": {},
   "outputs": [
    {
     "name": "stdout",
     "output_type": "stream",
     "text": [
      "1 2 3 4 5 6 7 8 9 10 "
     ]
    }
   ],
   "source": [
    "#1.number 1 to 10\n",
    "numbers = 10\n",
    "\n",
    "for num in range(1, numbers + 1):\n",
    "    print(num, end=' ')"
   ]
  },
  {
   "cell_type": "code",
   "execution_count": 2,
   "id": "9ab0fe26-e74b-455f-812b-589434f2476b",
   "metadata": {},
   "outputs": [
    {
     "name": "stdout",
     "output_type": "stream",
     "text": [
      "15\n"
     ]
    }
   ],
   "source": [
    "#2.sum of all numbers \n",
    "sum = 0\n",
    "for x in [1,2,3,4,5]:\n",
    "      sum = sum + x\n",
    "\n",
    "print(sum)"
   ]
  },
  {
   "cell_type": "code",
   "execution_count": 4,
   "id": "ee887bb4-70c6-4b49-aaee-08d89975824b",
   "metadata": {},
   "outputs": [
    {
     "name": "stdout",
     "output_type": "stream",
     "text": [
      "The reverse string is yttukuhsiv ssecnirp\n"
     ]
    }
   ],
   "source": [
    "#3.reverse order\n",
    "string = 'princess vishukutty'\n",
    "\n",
    "# find reverse of string\n",
    "reverse = ''\n",
    "for i in range(len(string), 0, -1):\n",
    "   reverse += string[i-1]\n",
    "\n",
    "print('The reverse string is', reverse)"
   ]
  },
  {
   "cell_type": "code",
   "execution_count": 5,
   "id": "a7140608-5eda-4f79-ae4f-6c9f2eb26121",
   "metadata": {},
   "outputs": [
    {
     "name": "stdout",
     "output_type": "stream",
     "text": [
      "The factorial of 7 is 5040\n"
     ]
    }
   ],
   "source": [
    "#4. Python program to find the factorial of a number provided by the user.\n",
    "num = 7\n",
    "\n",
    "factorial = 1\n",
    "\n",
    "if num < 0:\n",
    "   print(\"Sorry, factorial does not exist for negative numbers\")\n",
    "elif num == 0:\n",
    "   print(\"The factorial of 0 is 1\")\n",
    "else:\n",
    "   for i in range(1,num + 1):\n",
    "       factorial = factorial*i\n",
    "   print(\"The factorial of\",num,\"is\",factorial)\n"
   ]
  },
  {
   "cell_type": "code",
   "execution_count": 6,
   "id": "16d0fb77-cd58-4435-bdfd-77fd72973c79",
   "metadata": {},
   "outputs": [
    {
     "name": "stdout",
     "output_type": "stream",
     "text": [
      "12 x 1 = 12\n",
      "12 x 2 = 24\n",
      "12 x 3 = 36\n",
      "12 x 4 = 48\n",
      "12 x 5 = 60\n",
      "12 x 6 = 72\n",
      "12 x 7 = 84\n",
      "12 x 8 = 96\n",
      "12 x 9 = 108\n",
      "12 x 10 = 120\n"
     ]
    }
   ],
   "source": [
    "#5.creating multiplication table\n",
    "\n",
    "num = 12\n",
    "for i in range(1, 11):\n",
    "   print(num, 'x', i, '=', num*i)\n",
    "\n"
   ]
  },
  {
   "cell_type": "code",
   "execution_count": 7,
   "id": "7956a594-387d-4a1f-81ee-f5f224c3360b",
   "metadata": {},
   "outputs": [
    {
     "name": "stdout",
     "output_type": "stream",
     "text": [
      "Even numbers in the list:  3\n",
      "Odd numbers in the list:  4\n"
     ]
    }
   ],
   "source": [
    "#6. Python program to count Even\n",
    "# and Odd numbers in a List\n",
    "list1 = [10, 21, 4, 45, 66, 93, 1]\n",
    " \n",
    "even_count, odd_count = 0, 0\n",
    " \n",
    "for num in list1:\n",
    " \n",
    "    # checking condition\n",
    "    if num % 2 == 0:\n",
    "        even_count += 1\n",
    " \n",
    "    else:\n",
    "        odd_count += 1\n",
    " \n",
    "print(\"Even numbers in the list: \", even_count)\n",
    "print(\"Odd numbers in the list: \", odd_count)"
   ]
  },
  {
   "cell_type": "code",
   "execution_count": 12,
   "id": "481caca1-ff4c-4b6f-af81-a0228207497d",
   "metadata": {},
   "outputs": [
    {
     "name": "stdin",
     "output_type": "stream",
     "text": [
      " 6\n"
     ]
    },
    {
     "name": "stdout",
     "output_type": "stream",
     "text": [
      "0² = 0\n",
      "1² = 1\n",
      "2² = 4\n",
      "3² = 9\n",
      "4² = 16\n",
      "5² = 25\n"
     ]
    }
   ],
   "source": [
    "#7.square numbers\n",
    "n = int(input())\n",
    "for i in range(n):\n",
    "    print(\"%s² = %s\"%(i,i**2))"
   ]
  },
  {
   "cell_type": "code",
   "execution_count": 13,
   "id": "d708b4fe-762d-4cc1-ae7c-16c23995ad46",
   "metadata": {},
   "outputs": [
    {
     "name": "stdin",
     "output_type": "stream",
     "text": [
      "Enter a string:  (lioness female)\n"
     ]
    },
    {
     "name": "stdout",
     "output_type": "stream",
     "text": [
      "Length of the input string is: 16\n"
     ]
    }
   ],
   "source": [
    "#8.length of str\n",
    "str = input(\"Enter a string: \")\n",
    "counter = 0\n",
    "for s in str:\n",
    "      counter = counter+1\n",
    "print(\"Length of the input string is:\", counter)"
   ]
  },
  {
   "cell_type": "code",
   "execution_count": 16,
   "id": "5bbafedd-67df-47ce-8e5b-60e1dd9a539c",
   "metadata": {},
   "outputs": [
    {
     "name": "stdout",
     "output_type": "stream",
     "text": [
      "The list of numbers is: [1, 2, 34, 56, 7, 23, 23, 12, 1, 2, 3, 34, 56]\n",
      "The average of all the numbers is: 19.53846153846154\n"
     ]
    }
   ],
   "source": [
    "#9.average \n",
    "numbers = [1, 2, 34, 56, 7, 23, 23, 12, 1, 2, 3, 34, 56]\n",
    "sumOfNums = 0\n",
    "count = 0\n",
    "for number in numbers:\n",
    "    sumOfNums += number\n",
    "    count += 1\n",
    "average = sumOfNums / count\n",
    "print(\"The list of numbers is:\", numbers)\n",
    "print(\"The average of all the numbers is:\", average)\n"
   ]
  },
  {
   "cell_type": "code",
   "execution_count": 22,
   "id": "45f71f02-63be-4d5d-8968-a9afae0959cb",
   "metadata": {},
   "outputs": [
    {
     "name": "stdin",
     "output_type": "stream",
     "text": [
      "Number of elements in Fibonacci Series, N, (N>=2) :  10\n"
     ]
    },
    {
     "name": "stdout",
     "output_type": "stream",
     "text": [
      "[0, 1, 1, 2, 3, 5, 8, 13, 21, 34]\n"
     ]
    }
   ],
   "source": [
    "#10.fibonacci number\n",
    "N = int(input(\"Number of elements in Fibonacci Series, N, (N>=2) : \"))\n",
    "\n",
    "#initialize the list with starting elements: 0, 1\n",
    "fibonacciSeries = [0,1]\n",
    "\n",
    "if N>2:\n",
    "\tfor i in range(2, N):\n",
    "\t\t#next elment in series = sum of its previous two numbers\n",
    "\t\tnextElement = fibonacciSeries[i-1] + fibonacciSeries[i-2]\n",
    "\t\t#append the element to the series\n",
    "\t\tfibonacciSeries.append(nextElement)\n",
    "\n",
    "print(fibonacciSeries)"
   ]
  },
  {
   "cell_type": "markdown",
   "id": "1b919acc-3b70-4490-8e32-c181af6f1bd1",
   "metadata": {},
   "source": [
    "# intermediate level\n"
   ]
  },
  {
   "cell_type": "code",
   "execution_count": 9,
   "id": "06e7f4d6-b901-4fbb-8a57-bb216905f791",
   "metadata": {},
   "outputs": [
    {
     "name": "stdout",
     "output_type": "stream",
     "text": [
      "['shoeguy', 'ollie3', 'kyliek']\n"
     ]
    }
   ],
   "source": [
    "#11.remove duplicates\n",
    "users = ['AmyP', 'ollie3', 'shoeguy', 'kyliek', 'ollie3',\n",
    "         'stewieboy', 'csealker', 'shoeguy', 'cdriver', 'kyliek']\n",
    "         \n",
    "tmp  = set()\n",
    "dups = set(x for x in users if (x in tmp or tmp.add(x)))\n",
    "print(list(dups))"
   ]
  },
  {
   "cell_type": "code",
   "execution_count": 12,
   "id": "565639bc-1443-464a-84c9-ec046586659c",
   "metadata": {},
   "outputs": [
    {
     "name": "stdout",
     "output_type": "stream",
     "text": [
      "2 3 5 7 11 13 17 19 23 29 31 37 41 43 47 53 59 61 67 71 73 79 83 89 97 "
     ]
    }
   ],
   "source": [
    "#12. Python3 program to display Prime numbers till N\n",
    "N = 100;\n",
    "\n",
    "for i in range(1,N+1):\n",
    "  \n",
    "  if(isPrime(i)):\n",
    "    print(i,end=\" \")"
   ]
  },
  {
   "cell_type": "code",
   "execution_count": 31,
   "id": "daac3f42-ce52-43f3-8a8f-0255a95f9cb2",
   "metadata": {},
   "outputs": [
    {
     "name": "stdin",
     "output_type": "stream",
     "text": [
      "Enter a string: spread love everywhere you go\n"
     ]
    },
    {
     "name": "stdout",
     "output_type": "stream",
     "text": [
      "There are 11 vowels in the string: 'spread love everywhere you go'\n"
     ]
    }
   ],
   "source": [
    "#13.vowels\n",
    "import collections\n",
    "vowel = ['a', 'e', 'i', 'o', 'u']\n",
    "count = 0\n",
    "\n",
    "sentence = input('Enter a string:').lower()\n",
    "counter = collections.Counter(sentence)\n",
    "for word in counter:\n",
    "    if word in vowel:\n",
    "        count += counter[word]\n",
    "\n",
    "print('There are {} vowels in the string: \\'{}\\''.format(count,sentence))"
   ]
  },
  {
   "cell_type": "code",
   "execution_count": 32,
   "id": "22a6fe45-fef4-44eb-aa83-2b6fce539656",
   "metadata": {},
   "outputs": [
    {
     "name": "stdout",
     "output_type": "stream",
     "text": [
      "10\n"
     ]
    }
   ],
   "source": [
    "#14.max element in 2d\n",
    "l = [2,4,6,[5,10,3]]\n",
    "\n",
    "\n",
    "def flatten(seq):\n",
    "  for el in seq:\n",
    "    if isinstance(el, list):\n",
    "      yield from flatten(el)\n",
    "    else:\n",
    "      yield el\n",
    "\n",
    "print(max(flatten(l)))"
   ]
  },
  {
   "cell_type": "code",
   "execution_count": 33,
   "id": "598adf2f-7e24-4909-892b-3e1f5b246d76",
   "metadata": {},
   "outputs": [
    {
     "name": "stdout",
     "output_type": "stream",
     "text": [
      "[1, 3, 4, 3]\n"
     ]
    }
   ],
   "source": [
    "#15.remove all occurence of specific element\n",
    "x = [1, 2, 3, 4, 2, 2, 3]\n",
    "def remove_values_from_list(the_list, val):\n",
    "    for i in range(the_list.count(val)):\n",
    "        the_list.remove(val)\n",
    "\n",
    "remove_values_from_list(x, 2)\n",
    "\n",
    "print(x)"
   ]
  },
  {
   "cell_type": "code",
   "execution_count": 39,
   "id": "844b201c-b2ea-4eb9-8c9a-5a072ab08852",
   "metadata": {},
   "outputs": [
    {
     "name": "stdin",
     "output_type": "stream",
     "text": [
      "Enter the value of the multiplication table:  2\n"
     ]
    },
    {
     "name": "stdout",
     "output_type": "stream",
     "text": [
      "     1     2     3     4     5     2     4     6     8    10     3     6     9    12    15     4     8    12    16    20     5    10    15    20    25\n",
      "None\n"
     ]
    }
   ],
   "source": [
    "#16.multiplication table\n",
    "def mathTable(column, tuple):\n",
    "    for column in range(1, 6):\n",
    "        for tuple in range(1, 6):\n",
    "            print(\"%6d\" % (column * tuple), end = '')\n",
    "    print(\"\")\n",
    "\n",
    "x = int(input(\"Enter the value of the multiplication table: \"))\n",
    "column = \"\"\n",
    "tuple = ''\n",
    "print(mathTable(column, tuple))"
   ]
  },
  {
   "cell_type": "code",
   "execution_count": 40,
   "id": "45f09658-d64c-40ab-a018-0066a98b13f6",
   "metadata": {},
   "outputs": [
    {
     "name": "stdout",
     "output_type": "stream",
     "text": [
      "[32.111111111111114, 19.444444444444443, 33.333333333333336, 37.22222222222222]\n"
     ]
    }
   ],
   "source": [
    "#17.convert fah to celsius\n",
    "fah = [89.8, 67.0, 92, 99]\n",
    "\n",
    "cen = []\n",
    "for f in fah:\n",
    "    c = (f - 32) * 5 / 9\n",
    "    cen.append(c)\n",
    "\n",
    "print(cen)"
   ]
  },
  {
   "cell_type": "code",
   "execution_count": 1,
   "id": "76af1915-81f6-48d8-9043-b7c6731577b0",
   "metadata": {},
   "outputs": [
    {
     "name": "stdout",
     "output_type": "stream",
     "text": [
      "[3, 4, 4, 2]\n"
     ]
    }
   ],
   "source": [
    "#18.common element\n",
    "from collections import Counter\n",
    "L1,L2 = [3,7,4,2,4,3,1],[4,5,2,2,4,3]\n",
    "c = list((Counter(L1) & Counter(L2)).elements())\n",
    "print(c) # [3, 4, 4, 2]"
   ]
  },
  {
   "cell_type": "code",
   "execution_count": 2,
   "id": "aef334e3-354f-492d-b3e3-d539c1c9d1af",
   "metadata": {},
   "outputs": [
    {
     "name": "stdout",
     "output_type": "stream",
     "text": [
      "The common elements in the two lists are: \n",
      "[5]\n"
     ]
    }
   ],
   "source": [
    "#18.common element\n",
    "def common_member(a, b):\n",
    "    result = [i for i in a if i in b]\n",
    "    return result\n",
    " \n",
    "a = [1, 2, 3, 4, 5]\n",
    "b = [5, 6, 7, 8, 9]\n",
    " \n",
    "print(\"The common elements in the two lists are: \")\n",
    "print(common_member(a, b))"
   ]
  },
  {
   "cell_type": "code",
   "execution_count": 1,
   "id": "64035e20-6aa7-408b-b246-85b252ad2abf",
   "metadata": {},
   "outputs": [
    {
     "name": "stdout",
     "output_type": "stream",
     "text": [
      " x\n",
      " x x\n",
      " x x x\n",
      " x x x x\n",
      " x x x x x\n",
      " x x x x x x\n",
      " x x x x x x x\n"
     ]
    }
   ],
   "source": [
    "#19.right angled triangle\n",
    "for i in range(1,8):\n",
    "    stars=\"\"\n",
    "    for star in range(1,i+1):\n",
    "        stars+= \" x\"\n",
    "    print(stars)"
   ]
  },
  {
   "cell_type": "code",
   "execution_count": 4,
   "id": "b2694e6a-3c45-4e35-9f57-f98848ff6747",
   "metadata": {},
   "outputs": [
    {
     "name": "stdout",
     "output_type": "stream",
     "text": [
      "0\n"
     ]
    }
   ],
   "source": [
    "#20.gcd\n",
    " \n",
    "a = 16  \n",
    "b = 6  \n",
    "\n",
    "for i in range(1, a + b):\n",
    "    if i % a == 0 and i % b == 0:\n",
    "        best = i\n",
    "        \n",
    "print(best)"
   ]
  },
  {
   "cell_type": "markdown",
   "id": "42627e2c-38b0-441c-9817-9229f7c7a878",
   "metadata": {},
   "source": [
    "# ADVANCED LEVEL"
   ]
  },
  {
   "cell_type": "code",
   "execution_count": 9,
   "id": "dbae8178-8749-4028-8292-74e893d32f4c",
   "metadata": {},
   "outputs": [
    {
     "name": "stdout",
     "output_type": "stream",
     "text": [
      "[10, 12, 15, 19, 24, 30, 37, 45, 54, 54]\n"
     ]
    }
   ],
   "source": [
    "#21.sum of number of list\n",
    "numlist = [12,34,56,78,90]\n",
    "out = []\n",
    "res = [t := t+int(y) for x in numlist for y in str(x)]\n",
    "print(res)"
   ]
  },
  {
   "cell_type": "code",
   "execution_count": 12,
   "id": "2c2325a4-aa59-44ec-a812-16f6760b8b31",
   "metadata": {},
   "outputs": [
    {
     "name": "stdin",
     "output_type": "stream",
     "text": [
      " Please Enter any Number:  235\n"
     ]
    },
    {
     "name": "stdout",
     "output_type": "stream",
     "text": [
      " 5 is a Prime Factor of a Given Number 235\n",
      " 47 is a Prime Factor of a Given Number 235\n"
     ]
    }
   ],
   "source": [
    "#22.prime factors\n",
    " \n",
    " \n",
    "Number = int(input(\" Please Enter any Number: \"))\n",
    "\n",
    "for i in range(2, Number + 1):\n",
    "    if(Number % i == 0):\n",
    "        isprime = 1\n",
    "        for j in range(2, (i //2 + 1)):\n",
    "            if(i % j == 0):\n",
    "                isprime = 0\n",
    "                break\n",
    "            \n",
    "        if (isprime == 1):\n",
    "            print(\" %d is a Prime Factor of a Given Number %d\" %(i, Number))"
   ]
  },
  {
   "cell_type": "code",
   "execution_count": 14,
   "id": "fa36b3d7-2287-4438-83a3-5250fab81df1",
   "metadata": {},
   "outputs": [
    {
     "name": "stdout",
     "output_type": "stream",
     "text": [
      "[1, 1, 1, 2, 2, 2, 3, 3, 3, 3, 4, 4, 4, 5, 5, 5, 5]\n"
     ]
    }
   ],
   "source": [
    "#23.extract unique element and stores the element in new list\n",
    "com_list = []\n",
    "a1 = [1,2,3,4,5]\n",
    "b1 = [6,4,2,1]\n",
    "come_list = [a for a in a1 for b in b1 if a != b ]\n",
    "print(come_list)"
   ]
  },
  {
   "cell_type": "code",
   "execution_count": 15,
   "id": "3bd95430-2cf5-4557-a316-546f912cee04",
   "metadata": {},
   "outputs": [
    {
     "name": "stdout",
     "output_type": "stream",
     "text": [
      "[101, 111, 121, 131, 141, 151, 161, 171, 181, 191, 202, 212, 222, 232, 242, 252, 262, 272, 282, 292, 303, 313, 323, 333, 343, 353, 363, 373, 383, 393, 404, 414, 424, 434, 444, 454, 464, 474, 484, 494, 505, 515, 525, 535, 545, 555, 565, 575, 585, 595, 606, 616, 626, 636, 646, 656, 666, 676, 686, 696, 707, 717, 727, 737, 747, 757, 767, 777, 787, 797, 808, 818, 828, 838, 848, 858, 868, 878, 888, 898, 909, 919, 929, 939, 949, 959, 969, 979, 989, 999, 1001, 1111, 1221, 1331, 1441, 1551, 1661, 1771, 1881, 1991]\n"
     ]
    }
   ],
   "source": [
    "#24.palindrome\n",
    "def is_palindrome(num):\n",
    "    return str(num) == str(num)[::-1]\n",
    " \n",
    "def palindrome_range(start, end):\n",
    "    nums = list(range(start, end+1))\n",
    "    palindromes = list(filter(lambda x: is_palindrome(x), nums))\n",
    "    return palindromes\n",
    " \n",
    "start=100\n",
    "end=2000\n",
    "print(palindrome_range(start, end))"
   ]
  },
  {
   "cell_type": "code",
   "execution_count": 16,
   "id": "5c48c6c6-660d-4ac7-b0bf-d4fb532b766d",
   "metadata": {},
   "outputs": [
    {
     "name": "stdout",
     "output_type": "stream",
     "text": [
      "[1, 2, 3, 4, 5, 6, 7, 8]\n"
     ]
    }
   ],
   "source": [
    "#25.flateen a nested list\n",
    "given_list = [1, 2, [3], [4, [5, 6,[7,[8]]]]]\n",
    "final_list = []\n",
    "\n",
    "def flattenList(given_list):    \n",
    "    for x in given_list:\n",
    "        if isinstance(x,list):\n",
    "            flattenList(x)\n",
    "        else:\n",
    "            final_list.append(x)\n",
    "\n",
    "flattenList(given_list)\n",
    "print(final_list)"
   ]
  },
  {
   "cell_type": "code",
   "execution_count": 17,
   "id": "6ae4f512-169d-4c92-9a41-d085e63feba8",
   "metadata": {},
   "outputs": [
    {
     "name": "stdout",
     "output_type": "stream",
     "text": [
      "(9, 12)\n"
     ]
    }
   ],
   "source": [
    "#26.sum of even odd list\n",
    "number_list = [1, 2, 3, 4, 5, 6]\n",
    "\n",
    "def calculate_odd_even():\n",
    "    odd_number = 0\n",
    "    even_number = 0\n",
    "    for i in number_list:\n",
    "        if i % 2 == 0:\n",
    "            even_number = even_number + i\n",
    "        else:\n",
    "            odd_number = odd_number + i\n",
    "    \n",
    "    return (odd_number, even_number)\n",
    "\n",
    "my_tuple = calculate_odd_even()\n",
    "print(my_tuple) # prints "
   ]
  },
  {
   "cell_type": "code",
   "execution_count": 18,
   "id": "96ec5949-33ec-4b25-ae5b-c1de7d8d6a66",
   "metadata": {},
   "outputs": [
    {
     "name": "stdout",
     "output_type": "stream",
     "text": [
      "[121, 529, 169, 9, 1, 9]\n"
     ]
    }
   ],
   "source": [
    "#27.list of square of odd\n",
    "data=[11,23,13,3,1,3,4]\n",
    "result = [i*i for i in data if i%2!=0]\n",
    "print(result)"
   ]
  },
  {
   "cell_type": "code",
   "execution_count": 19,
   "id": "1fe4ce2d-1735-4ad9-963b-1ed27d45284a",
   "metadata": {},
   "outputs": [
    {
     "name": "stdout",
     "output_type": "stream",
     "text": [
      "{'gowy': 19, 'lexi': 12, 'vishaka': 22}\n"
     ]
    }
   ],
   "source": [
    "#28.combine list to dict\n",
    "keys_list = ['gowy', 'lexi', 'vishaka']\n",
    "values_list = [19, 12, 22]\n",
    " \n",
    "combined_list = zip(keys_list, values_list)\n",
    "combined_dict = dict(combined_list)\n",
    " \n",
    "print(combined_dict)"
   ]
  },
  {
   "cell_type": "code",
   "execution_count": 22,
   "id": "e1e35c31-002a-4e5a-b0cc-df7d1513a5cf",
   "metadata": {},
   "outputs": [
    {
     "name": "stdout",
     "output_type": "stream",
     "text": [
      "The original list is : ['be', 'a', 'bold', 'educated', 'women', 'by', 'yourself']\n",
      "The extracted words : ['a', 'educated']\n"
     ]
    }
   ],
   "source": [
    "#29.extract vowels\n",
    "test_list = [\"be\", \"a\", \"bold\", \"educated\", \"women\", \"by\", \"yourself\"]\n",
    " \n",
    "print(\"The original list is : \" + str(test_list))\n",
    " \n",
    "res = []\n",
    "vow = \"aeiou\"\n",
    "for sub in test_list:\n",
    "    flag = False\n",
    "     \n",
    "    \n",
    "    for ele in vow:\n",
    "        if sub.startswith(ele):\n",
    "            flag = True\n",
    "            break\n",
    "    if flag:\n",
    "        res.append(sub)\n",
    " \n",
    "print(\"The extracted words : \" + str(res))"
   ]
  },
  {
   "cell_type": "code",
   "execution_count": 23,
   "id": "e52875d1-63a7-4c98-ae39-ca4d764a9b9c",
   "metadata": {},
   "outputs": [
    {
     "name": "stdout",
     "output_type": "stream",
     "text": [
      "['1']\n"
     ]
    }
   ],
   "source": [
    "#30.remove non numeric characters\n",
    "import re\n",
    "invalid = re.compile('[^0-9]')    \n",
    "ls = ['1a', 'b3', '1']\n",
    "cleaned = [i for i in ls if not invalid.search(i)]\n",
    "print (cleaned)"
   ]
  },
  {
   "cell_type": "markdown",
   "id": "a498ba5e-13ea-4dd1-8fda-a3eac5b41be4",
   "metadata": {},
   "source": [
    "# CHALLENGE LEVEL\n"
   ]
  },
  {
   "cell_type": "code",
   "execution_count": 26,
   "id": "37ed7c8e-a0c8-4c28-a3f9-9423949d7dcb",
   "metadata": {},
   "outputs": [
    {
     "name": "stdout",
     "output_type": "stream",
     "text": [
      "2 3 5 7 11 13 17 19 23 29 31 37 41 43 47 53 59 61 67 71 73 79 83 89 97 "
     ]
    }
   ],
   "source": [
    "#31.primnumbers using sieve of eratosthenes\n",
    "Primes = [0] * 500001\n",
    "def SieveOfEratosthenes(n) :\n",
    "      \n",
    "    Primes[0] = 1\n",
    "    i = 3\n",
    "    while(i*i <= n) : \n",
    "        if (Primes[i // 2] == 0) :\n",
    "            for j in range(3 * i, n+1, 2 * i) : \n",
    "                Primes[j // 2] = 1\n",
    "                  \n",
    "        i += 2\n",
    "if __name__ == \"__main__\":\n",
    "  \n",
    "    n = 100\n",
    "    SieveOfEratosthenes(n)\n",
    "    for i in range(1, n+1) :\n",
    "        if (i == 2) :\n",
    "            print( i, end = \" \")\n",
    "        elif (i % 2 == 1 and Primes[i // 2] == 0) :\n",
    "            print( i, end = \" \")"
   ]
  },
  {
   "cell_type": "code",
   "execution_count": 31,
   "id": "21ac1f83-947b-4384-a144-bc16c3f0257e",
   "metadata": {},
   "outputs": [
    {
     "name": "stdout",
     "output_type": "stream",
     "text": [
      "3 4 5\n",
      "8 6 10\n",
      "5 12 13\n",
      "15 8 17\n",
      "12 16 20\n"
     ]
    }
   ],
   "source": [
    "#32.pythagorean triplet\n",
    "if __name__ == '__main__' :\n",
    "     \n",
    "    limit = 20\n",
    "    pythagoreanTriplets(limit)\n",
    " \n",
    " "
   ]
  },
  {
   "cell_type": "code",
   "execution_count": 32,
   "id": "67cd4345-5651-4ede-bb52-8384adc62e2a",
   "metadata": {},
   "outputs": [
    {
     "name": "stdout",
     "output_type": "stream",
     "text": [
      "()\n",
      "(1,)\n",
      "(2,)\n",
      "(3,)\n",
      "(1, 2)\n",
      "(1, 3)\n",
      "(2, 3)\n",
      "(1, 2, 3)\n"
     ]
    }
   ],
   "source": [
    "#33.all possible combination of two list\n",
    "import itertools\n",
    "\n",
    "stuff = [1, 2, 3]\n",
    "for L in range(len(stuff) + 1):\n",
    "    for subset in itertools.combinations(stuff, L):\n",
    "        print(subset)"
   ]
  },
  {
   "cell_type": "code",
   "execution_count": 4,
   "id": "1df4212b-d922-4fd7-9778-bda8793fd137",
   "metadata": {},
   "outputs": [
    {
     "name": "stdout",
     "output_type": "stream",
     "text": [
      "Mean / Average is: 3.0\n",
      "Median is: 3\n",
      "Mode is / are: 5\n"
     ]
    }
   ],
   "source": [
    "# 34. calculate mean,median,mode\n",
    "n_num = [1, 2, 3, 4, 5]\n",
    "n = len(n_num)\n",
    " \n",
    "get_sum = sum(n_num)\n",
    "mean = get_sum / n\n",
    " \n",
    "print(\"Mean / Average is: \" + str(mean))\n",
    "\n",
    "\n",
    "# median of elements\n",
    "n_num = [1, 2, 3, 4, 5]\n",
    "n = len(n_num)\n",
    "n_num.sort()\n",
    " \n",
    "if n % 2 == 0:\n",
    "    median1 = n_num[n//2]\n",
    "    median2 = n_num[n//2 - 1]\n",
    "    median = (median1 + median2)/2\n",
    "else:\n",
    "    median = n_num[n//2]\n",
    "print(\"Median is: \" + str(median))\n",
    "\n",
    "\n",
    "\n",
    "# mode of elements\n",
    "from collections import Counter\n",
    "n_num = [1, 2, 3, 4, 5, 5]\n",
    "n = len(n_num)\n",
    " \n",
    "data = Counter(n_num)\n",
    "get_mode = dict(data)\n",
    "mode = [k for k, v in get_mode.items() if v == max(list(data.values()))]\n",
    " \n",
    "if len(mode) == n:\n",
    "    get_mode = \"No mode found\"\n",
    "else:\n",
    "    get_mode = \"Mode is / are: \" + ', '.join(map(str, mode))\n",
    "     \n",
    "print(get_mode)\n"
   ]
  },
  {
   "cell_type": "code",
   "execution_count": 10,
   "id": "7eb16ed7-2c49-4dd0-af65-1f98319d1e52",
   "metadata": {},
   "outputs": [
    {
     "name": "stdout",
     "output_type": "stream",
     "text": [
      "      1 \n",
      "     1 1 \n",
      "    1 2 1 \n",
      "   1 3 3 1 \n",
      "  1 4 6 4 1 \n"
     ]
    }
   ],
   "source": [
    "\n",
    "# 35.Print Pascal's Triangle in Python\n",
    "from math import factorial\n",
    " \n",
    "n = 5\n",
    "for i in range(n):\n",
    "    for j in range(n-i+1):\n",
    " \n",
    "        print(end=\" \")\n",
    " \n",
    "    for j in range(i+1):\n",
    " \n",
    "        print(factorial(i)//(factorial(j)*factorial(i-j)), end=\" \")\n",
    "\n",
    "    print()"
   ]
  },
  {
   "cell_type": "code",
   "execution_count": 9,
   "id": "fbc2b666-efc5-4e3b-8268-17d1acef1c31",
   "metadata": {},
   "outputs": [
    {
     "name": "stdout",
     "output_type": "stream",
     "text": [
      "27\n",
      "648\n"
     ]
    }
   ],
   "source": [
    "#36.factorial number\n",
    "def sum_of_digits_factorial(n):\n",
    "    fact = 1\n",
    "    for i in range(2, n+1):\n",
    "        fact *= i\n",
    "    sum_of_digits = 0\n",
    "    for digit in str(fact):\n",
    "        sum_of_digits += int(digit)\n",
    "    return sum_of_digits\n",
    "print(sum_of_digits_factorial(10))\n",
    "print(sum_of_digits_factorial(100))"
   ]
  },
  {
   "cell_type": "code",
   "execution_count": 13,
   "id": "70693015-35f3-4427-9b37-6d97f04fbe5f",
   "metadata": {},
   "outputs": [
    {
     "name": "stdout",
     "output_type": "stream",
     "text": [
      "confident\n"
     ]
    }
   ],
   "source": [
    "#37.longest word in sentence\n",
    "import re\n",
    " \n",
    "def longest_word(sentence):\n",
    "    words = re.findall(r'\\b\\w+\\b', sentence) \n",
    "    return max(words, key=len) \n",
    " \n",
    "sentence = \"be confident and be yourself\"\n",
    "print(longest_word(sentence))"
   ]
  },
  {
   "cell_type": "code",
   "execution_count": 14,
   "id": "6e9d262a-cdc4-4698-af87-a214f6d2feab",
   "metadata": {},
   "outputs": [
    {
     "name": "stdout",
     "output_type": "stream",
     "text": [
      "['city1', 'class5', 'city2']\n"
     ]
    }
   ],
   "source": [
    "#38 Python3 program to Filter list of\n",
    "# strings based on another list\n",
    "import re\n",
    " \n",
    "def Filter(string, substr):\n",
    "    return [str for str in string if\n",
    "             any(sub in str for sub in substr)]\n",
    "     \n",
    "# Driver code\n",
    "string = ['city1', 'class5', 'room2', 'city2']\n",
    "substr = ['class', 'city']\n",
    "print(Filter(string, substr))"
   ]
  },
  {
   "cell_type": "code",
   "execution_count": 18,
   "id": "fb1c8198-d224-4e10-8f01-eac50aa45be9",
   "metadata": {},
   "outputs": [
    {
     "name": "stdin",
     "output_type": "stream",
     "text": [
      "Number:  1000\n"
     ]
    },
    {
     "name": "stdout",
     "output_type": "stream",
     "text": [
      "500500\n"
     ]
    }
   ],
   "source": [
    "#39.sum of digits \n",
    "number = int(input(\"Number: \"))\n",
    "sum = 0\n",
    "for i in range(1, number + 1):\n",
    "    sum += i\n",
    "print(sum)"
   ]
  },
  {
   "cell_type": "code",
   "execution_count": 19,
   "id": "e82978f6-9342-467b-b1b3-5daa745b6562",
   "metadata": {},
   "outputs": [
    {
     "name": "stdout",
     "output_type": "stream",
     "text": [
      "[11, 13, 17, 19, 23, 29, 31, 37, 41, 43, 47, 53, 59, 61, 67, 71, 73, 79, 83, 89, 97]\n"
     ]
    }
   ],
   "source": [
    "#40.prime palindromic numnber\n",
    "min = 10\n",
    "\n",
    "max = 100\n",
    "\n",
    "primes = [num for num in range(min,max) if 0 not in [num%i for i in range(2,num//2)]]\n",
    "\n",
    "print (primes)"
   ]
  },
  {
   "cell_type": "markdown",
   "id": "b4bb3521-41dc-480a-9754-0c9940040e84",
   "metadata": {},
   "source": [
    "#               THANK YOU"
   ]
  },
  {
   "cell_type": "code",
   "execution_count": null,
   "id": "cc467dfc-9698-41af-8fc1-3ba05d3b3177",
   "metadata": {},
   "outputs": [],
   "source": []
  }
 ],
 "metadata": {
  "kernelspec": {
   "display_name": "Python 3 (ipykernel)",
   "language": "python",
   "name": "python3"
  },
  "language_info": {
   "codemirror_mode": {
    "name": "ipython",
    "version": 3
   },
   "file_extension": ".py",
   "mimetype": "text/x-python",
   "name": "python",
   "nbconvert_exporter": "python",
   "pygments_lexer": "ipython3",
   "version": "3.10.8"
  }
 },
 "nbformat": 4,
 "nbformat_minor": 5
}
